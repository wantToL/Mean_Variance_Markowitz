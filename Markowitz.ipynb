{
 "cells": [
  {
   "cell_type": "code",
   "execution_count": 1,
   "metadata": {},
   "outputs": [],
   "source": [
    "# Libraries\n",
    "\n",
    "import pandas as pd \n",
    "import numpy as np \n",
    "import scipy.optimize as sc \n",
    "import plotly.graph_objects as go \n",
    "\n",
    "import datetime as dt \n",
    "import yfinance as yf "
   ]
  },
  {
   "cell_type": "code",
   "execution_count": 13,
   "metadata": {},
   "outputs": [],
   "source": [
    "# Data Importation\n",
    "\n",
    "def getData(stocks,start,end):\n",
    "    \"\"\"\n",
    "    stocks := represents a list of companies' symbols that we are interest to\n",
    "    start and end := enable to define the period through which we want to recuperate\n",
    "    stocks prices \n",
    "\n",
    "    \"\"\"\n",
    "    stock_data = yf.download(stocks, start, end)\n",
    "    stock_data = stock_data['Close'] # We can retrieve several pieces of information(High, Low, Open, Volume), but we choose to keep the close price\n",
    "    returns = stock_data.pct_change() # Method for obtaining daily returns\n",
    "    mean_return = returns.mean()\n",
    "    cov_matrix = returns.cov()\n",
    "    \n",
    "    return mean_return, cov_matrix\n",
    "    "
   ]
  },
  {
   "cell_type": "code",
   "execution_count": 3,
   "metadata": {},
   "outputs": [],
   "source": [
    "# preliminary steps: Performance Method\n",
    "def portfolioPerformance(weights, mean_return, cov_matrix):\n",
    "    \n",
    "    portfolio_return = np.sum(mean_return*weights) * 252\n",
    "    portfolio_std = np.sqrt(np.dot(weights.T, np.dot(cov_matrix, weights)))*np.sqrt(252)\n",
    "    \n",
    "    return portfolio_return, portfolio_std\n",
    "    "
   ]
  },
  {
   "cell_type": "code",
   "execution_count": 4,
   "metadata": {},
   "outputs": [],
   "source": [
    "# Step1: Maximum Sharpe Ratio\n",
    "\"\"\" 1. Maximum Sharpe Ratio: Maximize the return with a given level of volatility.\n",
    "    2. In order to use the function from the scipy package, we will reduce it to a minimization problem,\n",
    "    so we need to implement the Negative Sharpe Ratio\n",
    "    \n",
    "\"\"\"\n",
    "def negativeSR(weights, mean_return, cov_matrix, risk_free_rate = 0 ):\n",
    "    \n",
    "    p_return, p_std = portfolioPerformance(weights, mean_return, cov_matrix)\n",
    "    \n",
    "    return -( p_return-risk_free_rate)/p_std "
   ]
  },
  {
   "cell_type": "code",
   "execution_count": 5,
   "metadata": {},
   "outputs": [],
   "source": [
    "# Step2: Optimization\n",
    "\n",
    "def maxSR(mean_return, cov_matrix, risk_free_rate=0, constraint_set=(0,1)):\n",
    "    # We want to minimize the function negativeSR\n",
    "    \n",
    "    num_assets= len(mean_return)\n",
    "    args= (mean_return, cov_matrix, risk_free_rate)\n",
    "    # The constraints to our minimization pb is that the weights must sum up to 1\n",
    "    constraints= ({'type': 'eq',\n",
    "                   'fun': lambda x: np.sum(x)-1\n",
    "                   })\n",
    "    bound= constraint_set\n",
    "    bounds= tuple(bound for asset in range(num_assets))\n",
    "    \n",
    "    # the function \"minimize\" minimizes the function up to his first attribute\n",
    "    result= sc.minimize(negativeSR, num_assets*[1/ num_assets],\n",
    "                       args=args, method= 'SLSQP', bounds= bounds,\n",
    "                       constraints= constraints\n",
    "                        )\n",
    "    \n",
    "    return result"
   ]
  },
  {
   "cell_type": "code",
   "execution_count": 18,
   "metadata": {},
   "outputs": [],
   "source": [
    "# Minimize the portfolio Variance\n",
    "\n",
    "#1 function to minimize\n",
    "def portfolioVariance(weights, mean_return, cov_matrix):\n",
    "    return portfolioPerformance(weights, mean_return, cov_matrix)[1]"
   ]
  },
  {
   "cell_type": "code",
   "execution_count": 6,
   "metadata": {},
   "outputs": [],
   "source": [
    "#2 optimization\n",
    "def minimizeVariance(mean_return, cov_matrix, constraint_set=(0,1)):\n",
    "    \n",
    "    num_assets= len(mean_return)\n",
    "    args= (mean_return, cov_matrix)\n",
    "    constraints= ({'type': 'eq',\n",
    "                   'fun': lambda x: np.sum(x)-1\n",
    "                   })\n",
    "    bound= constraint_set\n",
    "    bounds= tuple(bound for asset in range(num_assets))\n",
    "    \n",
    "    result= sc.minimize(portfolioVariance, num_assets*[1/ num_assets],\n",
    "                       args=args, method= 'SLSQP', bounds= bounds,\n",
    "                       constraints= constraints\n",
    "                        )\n",
    "    \n",
    "    return result           "
   ]
  },
  {
   "cell_type": "code",
   "execution_count": 7,
   "metadata": {},
   "outputs": [],
   "source": [
    "# Step3 Optimal Portfolio\n",
    "\"\"\" For a given return, we are looking for a portfolio with a minimal variance\"\"\"\n",
    "#1\n",
    "def portfolioReturn(weights, mean_return, cov_matrix):\n",
    "    return portfolioPerformance(weights, mean_return, cov_matrix)[0]"
   ]
  },
  {
   "cell_type": "code",
   "execution_count": 8,
   "metadata": {},
   "outputs": [],
   "source": [
    "#2\n",
    "def efficientPortfolio(mean_return, cov_matrix, return_target, constraint_set=(0,1)):\n",
    "    num_assets= len(mean_return)\n",
    "    args= (mean_return, cov_matrix)\n",
    "    constraints= ({'type': 'eq',\n",
    "                   'fun': lambda x: portfolioReturn(x,mean_return,cov_matrix)-return_target},\n",
    "                  {'type': 'eq',\n",
    "                   'fun': lambda x: np.sum(x)-1\n",
    "                   })\n",
    "                  \n",
    "    bound= constraint_set\n",
    "    bounds= tuple(bound for asset in range(num_assets))\n",
    "    \n",
    "    result= sc.minimize(portfolioVariance, num_assets*[1/ num_assets],\n",
    "                       args=args, method= 'SLSQP', bounds= bounds,\n",
    "                       constraints= constraints\n",
    "                        )\n",
    "    \n",
    "    return result           \n",
    "    "
   ]
  },
  {
   "cell_type": "code",
   "execution_count": 9,
   "metadata": {},
   "outputs": [],
   "source": [
    "# Step4: Efficient Portfolio\n",
    "def calculateResults(mean_return, cov_matrix,risk_free_rate=0, constraint_set=(0,1)):\n",
    "    \n",
    "    # Max SR Portfolio\n",
    "    maxSR_portfolio= maxSR(mean_return, cov_matrix)\n",
    "    maxSR_return, maxSR_std= portfolioPerformance(maxSR_portfolio['x'], mean_return, cov_matrix)\n",
    "    \n",
    "    maxSR_allocation= pd.DataFrame(maxSR_portfolio['x'], index= mean_return.index, columns= ['Allocation'])\n",
    "    maxSR_allocation.Allocation=[round(i*100,0) for i in maxSR_allocation.Allocation]\n",
    "    \n",
    "    # Min volatility Portfolio\n",
    "    min_vol_portfolio= minimizeVariance(mean_return,cov_matrix)\n",
    "    min_vol_return, min_vol_std= portfolioPerformance(min_vol_portfolio['x'], mean_return, cov_matrix)\n",
    "    \n",
    "    min_vol_allocation= pd.DataFrame(min_vol_portfolio['x'], index= mean_return.index, columns= ['Allocation'])\n",
    "    min_vol_allocation.Allocation= [round(i*100,0) for i in min_vol_allocation.Allocation]\n",
    "    \n",
    "    # Efficient Frontiere\n",
    "    efficient_list=[]\n",
    "    target_return= np.linspace(min_vol_return, maxSR_return, 20)\n",
    "    for target in target_return:\n",
    "        efficient_list.append(efficientPortfolio(mean_return, cov_matrix, target)['fun'])\n",
    "    \n",
    "    min_vol_return, min_vol_std= round(min_vol_return*100,2), round(min_vol_std*100,2)\n",
    "    maxSR_return,maxSR_std= round(maxSR_return*100,2), round(maxSR_std*100,2)\n",
    "    \n",
    "    return maxSR_return, maxSR_std, maxSR_allocation, min_vol_return, min_vol_std, min_vol_allocation, efficient_list, target_return\n",
    "    \n",
    "    "
   ]
  },
  {
   "cell_type": "code",
   "execution_count": 29,
   "metadata": {},
   "outputs": [],
   "source": [
    "#step5 efficient frontiere graphic\n",
    "\n",
    "def EF_graph(mean_return, cov_matrix, risk_free_rate=0, constraint_set=(0,1)):\n",
    "    maxSR_return, maxSR_std, maxSR_allocation, min_vol_return, min_vol_std, min_vol_allocation, efficient_list, target_return=calculateResults(mean_return, cov_matrix,risk_free_rate=0, constraint_set=(0,1))\n",
    "    \n",
    "    # MaxSR\n",
    "    max_sharpe_ratio= go.Scatter(\n",
    "        name= 'Maximum Sharpe Ratio',\n",
    "        mode= 'markers',\n",
    "        x= [maxSR_std] ,\n",
    "        y= [ maxSR_return],\n",
    "        marker= dict(color='red', size=14,line=dict(width=3, color='black'))\n",
    "        \n",
    "    )\n",
    "    \n",
    "    # Min vol\n",
    "    min_vol= go.Scatter(\n",
    "        name= 'Minimum Volatility',\n",
    "        mode= 'markers',\n",
    "        x= [min_vol_std] ,\n",
    "        y= [ min_vol_return],\n",
    "        marker= dict(color='red', size=14,line=dict(width=3, color='black'))\n",
    "        \n",
    "    )\n",
    "    \n",
    "    # Efficient Frontier\n",
    "    EF_curve= go.Scatter(\n",
    "        name= 'Efficient Frontier',\n",
    "        mode= 'lines',\n",
    "        x= [round(eff_std*100,2) for eff_std in efficient_list ] ,\n",
    "        y= [round(target*100,2) for target in target_return ],\n",
    "        line= dict(color='red', width=4,dash='dashdot')\n",
    "        \n",
    "    )\n",
    "    \n",
    "    \n",
    "    # layout\n",
    "    data= [max_sharpe_ratio, min_vol, EF_graph]\n",
    "    layout= go.Layout(\n",
    "        title= 'Portfolio Optimization with the Efficient Frontier',\n",
    "        yaxis= dict(title= 'Annualized Return(%)'),\n",
    "        xaxis= dict(title= 'Annualized Volatility(%)'),\n",
    "        showlegend=True,\n",
    "        legend= dict(x=0.75, y=0, traceorder= 'normal',\n",
    "                     bgcolor= 'E2E2E2', bordercolor= 'black',\n",
    "                     borderwidth=2, width=800,\n",
    "                     height= 600\n",
    "                     )\n",
    "    )\n",
    "        \n",
    "    \n",
    "    fig= go.Figure(data=data, layout= layout)  \n",
    "    \n",
    "    fig.show()\n",
    "    \n",
    "    "
   ]
  },
  {
   "cell_type": "code",
   "execution_count": 11,
   "metadata": {},
   "outputs": [],
   "source": [
    "# Test\n",
    "stock_list=['^GDAXI', '^FCHI', '^IBEX', '^AEX','^BFX']\n",
    "end_Date= dt.date(2018,12,31)\n",
    "start_Date= end_Date- dt.timedelta(days=252)"
   ]
  },
  {
   "cell_type": "code",
   "execution_count": 14,
   "metadata": {},
   "outputs": [
    {
     "name": "stderr",
     "output_type": "stream",
     "text": [
      "[                       0%%                      ]"
     ]
    },
    {
     "name": "stderr",
     "output_type": "stream",
     "text": [
      "[*********************100%%**********************]  5 of 5 completed\n",
      "C:\\Users\\SHUNGU\\AppData\\Local\\Temp\\ipykernel_16528\\2899040762.py:12: FutureWarning: The default fill_method='pad' in DataFrame.pct_change is deprecated and will be removed in a future version. Either fill in any non-leading NA values prior to calling pct_change or specify 'fill_method=None' to not fill NA values.\n",
      "  returns = stock_data.pct_change() # Method for obtaining daily returns\n"
     ]
    }
   ],
   "source": [
    "mean_return, cov_matrix= getData(stock_list, start_Date, end_Date)"
   ]
  },
  {
   "cell_type": "code",
   "execution_count": 15,
   "metadata": {},
   "outputs": [
    {
     "data": {
      "text/plain": [
       "Ticker\n",
       "^AEX     -0.000735\n",
       "^BFX     -0.001121\n",
       "^FCHI    -0.000818\n",
       "^GDAXI   -0.000947\n",
       "^IBEX    -0.000846\n",
       "dtype: float64"
      ]
     },
     "execution_count": 15,
     "metadata": {},
     "output_type": "execute_result"
    }
   ],
   "source": [
    "mean_return"
   ]
  },
  {
   "cell_type": "code",
   "execution_count": null,
   "metadata": {},
   "outputs": [],
   "source": []
  },
  {
   "cell_type": "code",
   "execution_count": null,
   "metadata": {},
   "outputs": [],
   "source": []
  }
 ],
 "metadata": {
  "kernelspec": {
   "display_name": "Python 3",
   "language": "python",
   "name": "python3"
  },
  "language_info": {
   "codemirror_mode": {
    "name": "ipython",
    "version": 3
   },
   "file_extension": ".py",
   "mimetype": "text/x-python",
   "name": "python",
   "nbconvert_exporter": "python",
   "pygments_lexer": "ipython3",
   "version": "3.12.3"
  }
 },
 "nbformat": 4,
 "nbformat_minor": 2
}
