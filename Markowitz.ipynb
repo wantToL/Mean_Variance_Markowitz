{
 "cells": [
  {
   "cell_type": "markdown",
   "metadata": {},
   "source": [
    "### Markowitz Mean -Variance Optimizer for strategic asset Allocation\n",
    "---\n",
    "\n",
    "Ce projet est un mini code qui implémente en python l'optimiseur de type mean-variance de Markowitz.\n",
    "Il peut servir de point de départ pour plein de projet, dans le cadre de mon stage par exemple, je suis parti de ce code \n",
    "et j'ai ensuite explorer comment on pouvait intégrer des objectifs climatiques comme la réduction carbone ou l'analyse des scénarios climatiques dans l'allocation stratégoque d'actifs. \n",
    "\n",
    "Ici la seule contrainte est que les poids des actifs somment à 100 mais on peut bien adapté le code si on a besoin de limiter les poids de certains classes d'actifs comme les private Equity par exemple.\n",
    "\n",
    "Pour les graphiques , j'ai utilisé plotly, qui contrairement à matplotlib permet d'avoir des graphiques interactifs et plus jolis\n",
    "(avis personnel)\n"
   ]
  },
  {
   "cell_type": "code",
   "execution_count": 38,
   "metadata": {},
   "outputs": [
    {
     "name": "stdout",
     "output_type": "stream",
     "text": [
      "Requirement already satisfied: nbformat in c:\\users\\shungu\\appdata\\local\\programs\\python\\python312\\lib\\site-packages (5.10.4)\n",
      "Requirement already satisfied: fastjsonschema>=2.15 in c:\\users\\shungu\\appdata\\local\\programs\\python\\python312\\lib\\site-packages (from nbformat) (2.20.0)\n",
      "Requirement already satisfied: jsonschema>=2.6 in c:\\users\\shungu\\appdata\\local\\programs\\python\\python312\\lib\\site-packages (from nbformat) (4.23.0)\n",
      "Requirement already satisfied: jupyter-core!=5.0.*,>=4.12 in c:\\users\\shungu\\appdata\\roaming\\python\\python312\\site-packages (from nbformat) (5.7.2)\n",
      "Requirement already satisfied: traitlets>=5.1 in c:\\users\\shungu\\appdata\\roaming\\python\\python312\\site-packages (from nbformat) (5.14.3)\n",
      "Requirement already satisfied: attrs>=22.2.0 in c:\\users\\shungu\\appdata\\local\\programs\\python\\python312\\lib\\site-packages (from jsonschema>=2.6->nbformat) (24.2.0)\n",
      "Requirement already satisfied: jsonschema-specifications>=2023.03.6 in c:\\users\\shungu\\appdata\\local\\programs\\python\\python312\\lib\\site-packages (from jsonschema>=2.6->nbformat) (2023.12.1)\n",
      "Requirement already satisfied: referencing>=0.28.4 in c:\\users\\shungu\\appdata\\local\\programs\\python\\python312\\lib\\site-packages (from jsonschema>=2.6->nbformat) (0.35.1)\n",
      "Requirement already satisfied: rpds-py>=0.7.1 in c:\\users\\shungu\\appdata\\local\\programs\\python\\python312\\lib\\site-packages (from jsonschema>=2.6->nbformat) (0.20.0)\n",
      "Requirement already satisfied: platformdirs>=2.5 in c:\\users\\shungu\\appdata\\roaming\\python\\python312\\site-packages (from jupyter-core!=5.0.*,>=4.12->nbformat) (4.2.2)\n",
      "Requirement already satisfied: pywin32>=300 in c:\\users\\shungu\\appdata\\roaming\\python\\python312\\site-packages (from jupyter-core!=5.0.*,>=4.12->nbformat) (306)\n",
      "Note: you may need to restart the kernel to use updated packages.\n"
     ]
    },
    {
     "name": "stderr",
     "output_type": "stream",
     "text": [
      "\n",
      "[notice] A new release of pip is available: 24.0 -> 24.2\n",
      "[notice] To update, run: python.exe -m pip install --upgrade pip\n"
     ]
    }
   ],
   "source": [
    "pip install --upgrade nbformat\n"
   ]
  },
  {
   "cell_type": "code",
   "execution_count": 39,
   "metadata": {},
   "outputs": [
    {
     "name": "stdout",
     "output_type": "stream",
     "text": [
      "Requirement already satisfied: kaleido in c:\\users\\shungu\\appdata\\local\\programs\\python\\python312\\lib\\site-packages (0.2.1)\n",
      "Note: you may need to restart the kernel to use updated packages.\n"
     ]
    },
    {
     "name": "stderr",
     "output_type": "stream",
     "text": [
      "\n",
      "[notice] A new release of pip is available: 24.0 -> 24.2\n",
      "[notice] To update, run: python.exe -m pip install --upgrade pip\n"
     ]
    }
   ],
   "source": [
    "pip install -U kaleido\n"
   ]
  },
  {
   "cell_type": "markdown",
   "metadata": {},
   "source": [
    "##### Libraries set up\n",
    "---"
   ]
  },
  {
   "cell_type": "code",
   "execution_count": 40,
   "metadata": {},
   "outputs": [],
   "source": [
    "# Libraries\n",
    "\n",
    "import pandas as pd \n",
    "import numpy as np \n",
    "import scipy.optimize as sc \n",
    "import plotly.graph_objects as go \n",
    "import matplotlib.pyplot as plt\n",
    "\n",
    "\n",
    "import datetime as dt \n",
    "import yfinance as yf "
   ]
  },
  {
   "cell_type": "markdown",
   "metadata": {},
   "source": [
    "#### Preliminary: Useful function: data importation- Hypothèses de rendement-hypothèses des risques - portfolio performance\n",
    "---"
   ]
  },
  {
   "cell_type": "code",
   "execution_count": 41,
   "metadata": {},
   "outputs": [],
   "source": [
    "# Data Importation\n",
    "\n",
    "def getData(stocks,start,end):\n",
    "    \"\"\"\n",
    "    stocks := represents a list of companies' symbols that we are interest to\n",
    "    start and end := enable to define the period through which we want to recuperate\n",
    "    stocks prices \n",
    "\n",
    "    \"\"\"\n",
    "    stock_data = yf.download(stocks, start, end)\n",
    "    stock_data = stock_data['Close'] # We can retrieve several pieces of information(High, Low, Open, Volume), but we choose to keep the close price\n",
    "    returns = stock_data.pct_change(fill_method=None)\n",
    " # Method for obtaining daily returns\n",
    "    mean_return = returns.mean()\n",
    "    cov_matrix = returns.cov()\n",
    "    return mean_return, cov_matrix\n",
    "    "
   ]
  },
  {
   "cell_type": "code",
   "execution_count": 42,
   "metadata": {},
   "outputs": [],
   "source": [
    "# preliminary steps: Performance Method\n",
    "def portfolioPerformance(weights, mean_return, cov_matrix):\n",
    "    portfolio_return = np.sum(mean_return*weights) * 252\n",
    "    portfolio_std = np.sqrt(np.dot(weights.T, np.dot(cov_matrix, weights)))*np.sqrt(252)\n",
    "    return portfolio_return, portfolio_std"
   ]
  },
  {
   "cell_type": "markdown",
   "metadata": {},
   "source": [
    "#### Optimization process\n",
    "---"
   ]
  },
  {
   "cell_type": "code",
   "execution_count": 43,
   "metadata": {},
   "outputs": [],
   "source": [
    "# Step1: Maximum Sharpe Ratio\n",
    "\"\"\" 1. Maximum Sharpe Ratio: Maximize the return with a given level of volatility.\n",
    "    2. In order to use the function from the scipy package, we will reduce it to a minimization problem,\n",
    "    so we need to implement the Negative Sharpe Ratio\n",
    "    \n",
    "\"\"\"\n",
    "def negativeSR(weights, mean_return, cov_matrix, risk_free_rate = 0 ):\n",
    "    p_return, p_std = portfolioPerformance(weights, mean_return, cov_matrix)\n",
    "    return -( p_return-risk_free_rate)/p_std \n"
   ]
  },
  {
   "cell_type": "code",
   "execution_count": 44,
   "metadata": {},
   "outputs": [],
   "source": [
    "# Step2: Optimization\n",
    "\n",
    "def maxSR(mean_return, cov_matrix, risk_free_rate=0, constraint_set=(0,1)):\n",
    "    # We want to minimize the function negativeSR\n",
    "    num_assets= len(mean_return)\n",
    "    args= (mean_return, cov_matrix, risk_free_rate)\n",
    "    # The constraints to our minimization pb is that the weights must sum up to 1\n",
    "    constraints= ({'type': 'eq',\n",
    "                   'fun': lambda x: np.sum(x)-1\n",
    "                   })\n",
    "    bound= constraint_set\n",
    "    bounds= tuple(bound for asset in range(num_assets))\n",
    "    # the function \"minimize\" minimizes the function up to his first attribute\n",
    "    result= sc.minimize(negativeSR, num_assets*[1/ num_assets],\n",
    "                       args=args, method= 'SLSQP', bounds= bounds,\n",
    "                       constraints= constraints\n",
    "                        )\n",
    "    return result"
   ]
  },
  {
   "cell_type": "code",
   "execution_count": 45,
   "metadata": {},
   "outputs": [],
   "source": [
    "# Minimize the portfolio Variance\n",
    "\n",
    "#1 function to minimize\n",
    "def portfolioVariance(weights, mean_return, cov_matrix):\n",
    "    return portfolioPerformance(weights, mean_return, cov_matrix)[1]"
   ]
  },
  {
   "cell_type": "code",
   "execution_count": 46,
   "metadata": {},
   "outputs": [],
   "source": [
    "#2 optimization\n",
    "def minimizeVariance(mean_return, cov_matrix, constraint_set=(0,1)):\n",
    "    num_assets= len(mean_return)\n",
    "    args= (mean_return, cov_matrix)\n",
    "    constraints= ({'type': 'eq',\n",
    "                   'fun': lambda x: np.sum(x)-1\n",
    "                   })\n",
    "    bound= constraint_set\n",
    "    bounds= tuple(bound for asset in range(num_assets))\n",
    "    \n",
    "    result= sc.minimize(portfolioVariance, num_assets*[1/ num_assets],\n",
    "                       args=args, method= 'SLSQP', bounds= bounds,\n",
    "                       constraints= constraints\n",
    "                        )\n",
    "    return result           "
   ]
  },
  {
   "cell_type": "code",
   "execution_count": 47,
   "metadata": {},
   "outputs": [],
   "source": [
    "# Step3 Optimal Portfolio\n",
    "\"\"\" For a given return, we are looking for a portfolio with a minimal variance\"\"\"\n",
    "def portfolioReturn(weights, mean_return, cov_matrix):\n",
    "    return portfolioPerformance(weights, mean_return, cov_matrix)[0]"
   ]
  },
  {
   "cell_type": "code",
   "execution_count": 48,
   "metadata": {},
   "outputs": [],
   "source": [
    "#2\n",
    "def efficientPortfolio(mean_return, cov_matrix, return_target, constraint_set=(0,1)):\n",
    "    num_assets= len(mean_return)\n",
    "    args= (mean_return, cov_matrix)\n",
    "    constraints= ({'type': 'eq',\n",
    "                   'fun': lambda x: portfolioReturn(x,mean_return,cov_matrix)-return_target},\n",
    "                  {'type': 'eq',\n",
    "                   'fun': lambda x: np.sum(x)-1\n",
    "                   })\n",
    "                  \n",
    "    bound= constraint_set\n",
    "    bounds= tuple(bound for asset in range(num_assets))\n",
    "    \n",
    "    result= sc.minimize(portfolioVariance, num_assets*[1/ num_assets],\n",
    "                       args=args, method= 'SLSQP', bounds= bounds,\n",
    "                       constraints= constraints\n",
    "                        )\n",
    "    return result           \n",
    "    "
   ]
  },
  {
   "cell_type": "markdown",
   "metadata": {},
   "source": [
    "#### Results to return-strategic asset allocation\n",
    "----"
   ]
  },
  {
   "cell_type": "code",
   "execution_count": 49,
   "metadata": {},
   "outputs": [],
   "source": [
    "# Step4: Efficient Portfolio\n",
    "def calculateResults(mean_return, cov_matrix,risk_free_rate=0, constraint_set=(0,1)):\n",
    "    \n",
    "    # Max SR Portfolio\n",
    "    maxSR_portfolio= maxSR(mean_return, cov_matrix)\n",
    "    maxSR_return, maxSR_std= portfolioPerformance(maxSR_portfolio['x'], mean_return, cov_matrix)\n",
    "    \n",
    "    maxSR_allocation= pd.DataFrame(maxSR_portfolio['x'], index= mean_return.index, columns= ['Allocation'])\n",
    "    maxSR_allocation.Allocation=[round(i*100,0) for i in maxSR_allocation.Allocation]\n",
    "    \n",
    "    # Min volatility Portfolio\n",
    "    min_vol_portfolio= minimizeVariance(mean_return,cov_matrix)\n",
    "    min_vol_return, min_vol_std= portfolioPerformance(min_vol_portfolio['x'], mean_return, cov_matrix)\n",
    "    \n",
    "    min_vol_allocation= pd.DataFrame(min_vol_portfolio['x'], index= mean_return.index, columns= ['Allocation'])\n",
    "    min_vol_allocation.Allocation= [round(i*100,0) for i in min_vol_allocation.Allocation]\n",
    "    \n",
    "    # Efficient Frontiere\n",
    "    efficient_list=[]\n",
    "    target_return= np.linspace(min_vol_return, maxSR_return, 20)\n",
    "    for target in target_return:\n",
    "        efficient_list.append(efficientPortfolio(mean_return, cov_matrix, target)['fun'])\n",
    "    \n",
    "    min_vol_return, min_vol_std= round(min_vol_return*100,2), round(min_vol_std*100,2)\n",
    "    maxSR_return,maxSR_std= round(maxSR_return*100,2), round(maxSR_std*100,2)\n",
    "    \n",
    "    return maxSR_return, maxSR_std, maxSR_allocation, min_vol_return, min_vol_std, min_vol_allocation, efficient_list, target_return\n",
    "    \n",
    "    "
   ]
  },
  {
   "cell_type": "code",
   "execution_count": 54,
   "metadata": {},
   "outputs": [
    {
     "name": "stderr",
     "output_type": "stream",
     "text": [
      "[*********************100%%**********************]  15 of 15 completed\n",
      "\n",
      "1 Failed download:\n",
      "['FB']: YFTzMissingError('$%ticker%: possibly delisted; No timezone found')\n"
     ]
    },
    {
     "name": "stdout",
     "output_type": "stream",
     "text": [
      "Max Sharpe Ratio Portfolio Allocation:\n",
      "         Allocation\n",
      "Ticker            \n",
      "AAPL           7.0\n",
      "AMZN           7.0\n",
      "BAC            7.0\n",
      "DIS            7.0\n",
      "FB             7.0\n",
      "GOOGL          7.0\n",
      "JNJ            7.0\n",
      "JPM            7.0\n",
      "MSFT           7.0\n",
      "NFLX           7.0\n",
      "NVDA           7.0\n",
      "PG             7.0\n",
      "TSLA           7.0\n",
      "V              7.0\n",
      "XOM            7.0\n"
     ]
    }
   ],
   "source": [
    "stock_list = ['AAPL', 'MSFT', 'GOOGL', 'AMZN', 'FB', 'TSLA', 'NVDA', 'NFLX', 'DIS', 'V', 'JNJ', 'PG', 'JPM', 'BAC', 'XOM']\n",
    "start_Date = dt.date(2020, 3, 1)\n",
    "end_Date = dt.date(2021, 3, 1)\n",
    "mean_return, cov_matrix = getData(stock_list, start_Date, end_Date)\n",
    "maxSR_allocation = calculateResults(mean_return, cov_matrix)[2]\n",
    "\n",
    "# Afficher les allocations pour le portefeuille Max SR\n",
    "print(\"Max Sharpe Ratio Portfolio Allocation:\\n\", maxSR_allocation)\n"
   ]
  },
  {
   "cell_type": "markdown",
   "metadata": {},
   "source": [
    "#### Graphics\n",
    "----"
   ]
  },
  {
   "cell_type": "code",
   "execution_count": 51,
   "metadata": {},
   "outputs": [],
   "source": [
    "def EF_graph(mean_return, cov_matrix, risk_free_rate=0, constraint_set=(0, 1)):\n",
    "    maxSR_return, maxSR_std, maxSR_allocation, min_vol_return, min_vol_std, min_vol_allocation, efficient_list, target_return = calculateResults(mean_return, cov_matrix, risk_free_rate, constraint_set)\n",
    "\n",
    "    # MaxSR\n",
    "    max_sharpe_ratio = go.Scatter(\n",
    "        name='Maximum Sharpe Ratio',\n",
    "        mode='markers',\n",
    "        x=[maxSR_std],\n",
    "        y=[maxSR_return],\n",
    "        marker=dict(color='red', size=14, line=dict(width=3, color='black'))\n",
    "    )\n",
    "\n",
    "    # Min vol\n",
    "    min_vol = go.Scatter(\n",
    "        name='Minimum Volatility',\n",
    "        mode='markers',\n",
    "        x=[min_vol_std],\n",
    "        y=[min_vol_return],\n",
    "        marker=dict(color='blue', size=14, line=dict(width=3, color='black'))\n",
    "    )\n",
    "\n",
    "    # Efficient Frontier\n",
    "    EF_curve = go.Scatter(\n",
    "        name='Efficient Frontier',\n",
    "        mode='lines',\n",
    "        x=[round(eff_std * 100, 2) for eff_std in efficient_list],\n",
    "        y=[round(target * 100, 2) for target in target_return],\n",
    "        line=dict(color='green', width=4, dash='dashdot')\n",
    "    )\n",
    "\n",
    "    # layout\n",
    "    data = [max_sharpe_ratio, min_vol, EF_curve]\n",
    "    layout = go.Layout(\n",
    "        title='Portfolio Optimization with the Efficient Frontier',\n",
    "        yaxis=dict(title='Annualized Return (%)'),\n",
    "        xaxis=dict(title='Annualized Volatility (%)'),\n",
    "        showlegend=True,\n",
    "        legend=dict(x=0.75, y=0, traceorder='normal',\n",
    "                    bgcolor='#E2E2E2', bordercolor='black',\n",
    "                    borderwidth=2)\n",
    "    )\n",
    "\n",
    "    fig = go.Figure(data=data, layout=layout)\n",
    "    fig.show()"
   ]
  }
 ],
 "metadata": {
  "kernelspec": {
   "display_name": "Python 3",
   "language": "python",
   "name": "python3"
  },
  "language_info": {
   "codemirror_mode": {
    "name": "ipython",
    "version": 3
   },
   "file_extension": ".py",
   "mimetype": "text/x-python",
   "name": "python",
   "nbconvert_exporter": "python",
   "pygments_lexer": "ipython3",
   "version": "3.12.3"
  }
 },
 "nbformat": 4,
 "nbformat_minor": 2
}
